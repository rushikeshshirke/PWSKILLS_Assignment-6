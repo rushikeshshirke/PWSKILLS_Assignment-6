{
 "cells": [
  {
   "cell_type": "code",
   "execution_count": 1,
   "id": "8eefa766-efde-4a9a-9962-fb11d1cfbd9d",
   "metadata": {},
   "outputs": [],
   "source": [
    "# Q1 \n",
    "# Class is a blueprint which contains all the properties and functions.\n",
    "# Object is an instance of the class. Through object we can access properties and functions of the class."
   ]
  },
  {
   "cell_type": "code",
   "execution_count": 2,
   "id": "4641d248-b8e0-44fd-bc0d-3182c5aee6f9",
   "metadata": {},
   "outputs": [],
   "source": [
    "class Car:\n",
    "    def run(self):\n",
    "        print('Car is running...')\n",
    "    def stop(self):\n",
    "        print('Car is stopped...')"
   ]
  },
  {
   "cell_type": "code",
   "execution_count": 3,
   "id": "6a463713-51dc-4e52-adc9-450906ce4d67",
   "metadata": {},
   "outputs": [],
   "source": [
    "audi = Car()"
   ]
  },
  {
   "cell_type": "code",
   "execution_count": 4,
   "id": "ccabdfb5-bf28-409f-bf1e-d896ca63f06f",
   "metadata": {},
   "outputs": [
    {
     "name": "stdout",
     "output_type": "stream",
     "text": [
      "<class 'type'>\n"
     ]
    }
   ],
   "source": [
    "print(type(Car))"
   ]
  },
  {
   "cell_type": "code",
   "execution_count": 5,
   "id": "6ed01bb0-c2fb-40c5-ad2c-b4a86a9ccfc7",
   "metadata": {},
   "outputs": [
    {
     "name": "stdout",
     "output_type": "stream",
     "text": [
      "Car is running...\n"
     ]
    }
   ],
   "source": [
    "audi.run()"
   ]
  },
  {
   "cell_type": "code",
   "execution_count": 6,
   "id": "6e7fb385-9ec5-4b31-8c9e-f53469368791",
   "metadata": {},
   "outputs": [
    {
     "name": "stdout",
     "output_type": "stream",
     "text": [
      "Car is stopped...\n"
     ]
    }
   ],
   "source": [
    "audi.stop()"
   ]
  },
  {
   "cell_type": "code",
   "execution_count": 7,
   "id": "bd4028ca-eb14-44d7-af0b-d576efa28dc8",
   "metadata": {},
   "outputs": [],
   "source": [
    "# Q2\n",
    "\n",
    "# Four pillars of OOP : \n",
    "# 1. Inheritance\n",
    "# 2. Polymorphism\n",
    "# 3. Abstraction\n",
    "# 4. Encapsulation"
   ]
  },
  {
   "cell_type": "code",
   "execution_count": 8,
   "id": "66e9c1a2-e61c-4d5a-a787-2069df266eab",
   "metadata": {},
   "outputs": [],
   "source": [
    "# Q3\n",
    "\n",
    "# __init__() is the constructor of class. \n",
    "# It is used to pass the data of the object to the class.\n",
    "# It is invoked when the object of class is formed"
   ]
  },
  {
   "cell_type": "code",
   "execution_count": 9,
   "id": "860fd633-448e-4512-bb5c-901fadba06cc",
   "metadata": {},
   "outputs": [],
   "source": [
    "# Q4\n",
    "\n",
    "# Self is a reference to the object itself, and is used to access members that belongs to the object.\n",
    "# It does not have to be named self, you can call it whatever you like,\n",
    "# but it has to be first parameter of any function in the class. "
   ]
  },
  {
   "cell_type": "code",
   "execution_count": null,
   "id": "855bc664-b28e-4bc2-bdfc-146ce522c32e",
   "metadata": {},
   "outputs": [],
   "source": []
  }
 ],
 "metadata": {
  "kernelspec": {
   "display_name": "Python 3 (ipykernel)",
   "language": "python",
   "name": "python3"
  },
  "language_info": {
   "codemirror_mode": {
    "name": "ipython",
    "version": 3
   },
   "file_extension": ".py",
   "mimetype": "text/x-python",
   "name": "python",
   "nbconvert_exporter": "python",
   "pygments_lexer": "ipython3",
   "version": "3.10.8"
  }
 },
 "nbformat": 4,
 "nbformat_minor": 5
}
